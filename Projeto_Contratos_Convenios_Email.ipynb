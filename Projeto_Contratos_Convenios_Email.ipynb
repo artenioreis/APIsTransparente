{
 "cells": [
  {
   "cell_type": "markdown",
   "id": "6065a965",
   "metadata": {},
   "source": [
    "\n",
    "# 📊 Automação e Análise de Dados de Contratos e Convênios\n",
    "\n",
    "Este notebook demonstra como automatizar a **coleta, o tratamento e a análise** de dados de contratos e convênios disponibilizados pela plataforma **Ceará Transparente**.\n",
    "\n",
    "**Objetivos:**\n",
    "- Coletar dados via API.\n",
    "- Estruturar e armazenar os dados.\n",
    "- Analisar e visualizar as informações.\n",
    "- Exportar resultados tratados.\n",
    "- Enviar automaticamente por e-mail todos os dias.\n"
   ]
  },
  {
   "cell_type": "markdown",
   "id": "0ff893fa",
   "metadata": {},
   "source": [
    "## 1️⃣ Importação de Bibliotecas"
   ]
  },
  {
   "cell_type": "code",
   "execution_count": 4,
   "id": "f7625c11",
   "metadata": {},
   "outputs": [],
   "source": [
    "\n",
    "import requests        # Para consumir a API\n",
    "import pandas as pd    # Para manipulação e análise de dados\n",
    "import matplotlib.pyplot as plt  # Para criar gráficos\n"
   ]
  },
  {
   "cell_type": "markdown",
   "id": "ac65ca1b",
   "metadata": {},
   "source": [
    "## 2️⃣ Coleta de Dados via API"
   ]
  },
  {
   "cell_type": "code",
   "execution_count": null,
   "id": "58228fba",
   "metadata": {},
   "outputs": [
    {
     "ename": "JSONDecodeError",
     "evalue": "Expecting value: line 1 column 1 (char 0)",
     "output_type": "error",
     "traceback": [
      "\u001b[31m---------------------------------------------------------------------------\u001b[39m",
      "\u001b[31mJSONDecodeError\u001b[39m                           Traceback (most recent call last)",
      "\u001b[36mFile \u001b[39m\u001b[32mc:\\APIsTransparente\\.venv\\Lib\\site-packages\\requests\\models.py:976\u001b[39m, in \u001b[36mResponse.json\u001b[39m\u001b[34m(self, **kwargs)\u001b[39m\n\u001b[32m    975\u001b[39m \u001b[38;5;28;01mtry\u001b[39;00m:\n\u001b[32m--> \u001b[39m\u001b[32m976\u001b[39m     \u001b[38;5;28;01mreturn\u001b[39;00m \u001b[43mcomplexjson\u001b[49m\u001b[43m.\u001b[49m\u001b[43mloads\u001b[49m\u001b[43m(\u001b[49m\u001b[38;5;28;43mself\u001b[39;49m\u001b[43m.\u001b[49m\u001b[43mtext\u001b[49m\u001b[43m,\u001b[49m\u001b[43m \u001b[49m\u001b[43m*\u001b[49m\u001b[43m*\u001b[49m\u001b[43mkwargs\u001b[49m\u001b[43m)\u001b[49m\n\u001b[32m    977\u001b[39m \u001b[38;5;28;01mexcept\u001b[39;00m JSONDecodeError \u001b[38;5;28;01mas\u001b[39;00m e:\n\u001b[32m    978\u001b[39m     \u001b[38;5;66;03m# Catch JSON-related errors and raise as requests.JSONDecodeError\u001b[39;00m\n\u001b[32m    979\u001b[39m     \u001b[38;5;66;03m# This aliases json.JSONDecodeError and simplejson.JSONDecodeError\u001b[39;00m\n",
      "\u001b[36mFile \u001b[39m\u001b[32m~\\AppData\\Local\\Programs\\Python\\Python313\\Lib\\json\\__init__.py:346\u001b[39m, in \u001b[36mloads\u001b[39m\u001b[34m(s, cls, object_hook, parse_float, parse_int, parse_constant, object_pairs_hook, **kw)\u001b[39m\n\u001b[32m    343\u001b[39m \u001b[38;5;28;01mif\u001b[39;00m (\u001b[38;5;28mcls\u001b[39m \u001b[38;5;129;01mis\u001b[39;00m \u001b[38;5;28;01mNone\u001b[39;00m \u001b[38;5;129;01mand\u001b[39;00m object_hook \u001b[38;5;129;01mis\u001b[39;00m \u001b[38;5;28;01mNone\u001b[39;00m \u001b[38;5;129;01mand\u001b[39;00m\n\u001b[32m    344\u001b[39m         parse_int \u001b[38;5;129;01mis\u001b[39;00m \u001b[38;5;28;01mNone\u001b[39;00m \u001b[38;5;129;01mand\u001b[39;00m parse_float \u001b[38;5;129;01mis\u001b[39;00m \u001b[38;5;28;01mNone\u001b[39;00m \u001b[38;5;129;01mand\u001b[39;00m\n\u001b[32m    345\u001b[39m         parse_constant \u001b[38;5;129;01mis\u001b[39;00m \u001b[38;5;28;01mNone\u001b[39;00m \u001b[38;5;129;01mand\u001b[39;00m object_pairs_hook \u001b[38;5;129;01mis\u001b[39;00m \u001b[38;5;28;01mNone\u001b[39;00m \u001b[38;5;129;01mand\u001b[39;00m \u001b[38;5;129;01mnot\u001b[39;00m kw):\n\u001b[32m--> \u001b[39m\u001b[32m346\u001b[39m     \u001b[38;5;28;01mreturn\u001b[39;00m \u001b[43m_default_decoder\u001b[49m\u001b[43m.\u001b[49m\u001b[43mdecode\u001b[49m\u001b[43m(\u001b[49m\u001b[43ms\u001b[49m\u001b[43m)\u001b[49m\n\u001b[32m    347\u001b[39m \u001b[38;5;28;01mif\u001b[39;00m \u001b[38;5;28mcls\u001b[39m \u001b[38;5;129;01mis\u001b[39;00m \u001b[38;5;28;01mNone\u001b[39;00m:\n",
      "\u001b[36mFile \u001b[39m\u001b[32m~\\AppData\\Local\\Programs\\Python\\Python313\\Lib\\json\\decoder.py:345\u001b[39m, in \u001b[36mJSONDecoder.decode\u001b[39m\u001b[34m(self, s, _w)\u001b[39m\n\u001b[32m    341\u001b[39m \u001b[38;5;250m\u001b[39m\u001b[33;03m\"\"\"Return the Python representation of ``s`` (a ``str`` instance\u001b[39;00m\n\u001b[32m    342\u001b[39m \u001b[33;03mcontaining a JSON document).\u001b[39;00m\n\u001b[32m    343\u001b[39m \n\u001b[32m    344\u001b[39m \u001b[33;03m\"\"\"\u001b[39;00m\n\u001b[32m--> \u001b[39m\u001b[32m345\u001b[39m obj, end = \u001b[38;5;28;43mself\u001b[39;49m\u001b[43m.\u001b[49m\u001b[43mraw_decode\u001b[49m\u001b[43m(\u001b[49m\u001b[43ms\u001b[49m\u001b[43m,\u001b[49m\u001b[43m \u001b[49m\u001b[43midx\u001b[49m\u001b[43m=\u001b[49m\u001b[43m_w\u001b[49m\u001b[43m(\u001b[49m\u001b[43ms\u001b[49m\u001b[43m,\u001b[49m\u001b[43m \u001b[49m\u001b[32;43m0\u001b[39;49m\u001b[43m)\u001b[49m\u001b[43m.\u001b[49m\u001b[43mend\u001b[49m\u001b[43m(\u001b[49m\u001b[43m)\u001b[49m\u001b[43m)\u001b[49m\n\u001b[32m    346\u001b[39m end = _w(s, end).end()\n",
      "\u001b[36mFile \u001b[39m\u001b[32m~\\AppData\\Local\\Programs\\Python\\Python313\\Lib\\json\\decoder.py:363\u001b[39m, in \u001b[36mJSONDecoder.raw_decode\u001b[39m\u001b[34m(self, s, idx)\u001b[39m\n\u001b[32m    362\u001b[39m \u001b[38;5;28;01mexcept\u001b[39;00m \u001b[38;5;167;01mStopIteration\u001b[39;00m \u001b[38;5;28;01mas\u001b[39;00m err:\n\u001b[32m--> \u001b[39m\u001b[32m363\u001b[39m     \u001b[38;5;28;01mraise\u001b[39;00m JSONDecodeError(\u001b[33m\"\u001b[39m\u001b[33mExpecting value\u001b[39m\u001b[33m\"\u001b[39m, s, err.value) \u001b[38;5;28;01mfrom\u001b[39;00m\u001b[38;5;250m \u001b[39m\u001b[38;5;28;01mNone\u001b[39;00m\n\u001b[32m    364\u001b[39m \u001b[38;5;28;01mreturn\u001b[39;00m obj, end\n",
      "\u001b[31mJSONDecodeError\u001b[39m: Expecting value: line 1 column 1 (char 0)",
      "\nDuring handling of the above exception, another exception occurred:\n",
      "\u001b[31mJSONDecodeError\u001b[39m                           Traceback (most recent call last)",
      "\u001b[36mCell\u001b[39m\u001b[36m \u001b[39m\u001b[32mIn[5]\u001b[39m\u001b[32m, line 9\u001b[39m\n\u001b[32m      7\u001b[39m \u001b[38;5;66;03m# Verificando se a resposta foi bem-sucedida\u001b[39;00m\n\u001b[32m      8\u001b[39m \u001b[38;5;28;01mif\u001b[39;00m response.status_code == \u001b[32m200\u001b[39m:\n\u001b[32m----> \u001b[39m\u001b[32m9\u001b[39m     dados = \u001b[43mresponse\u001b[49m\u001b[43m.\u001b[49m\u001b[43mjson\u001b[49m\u001b[43m(\u001b[49m\u001b[43m)\u001b[49m  \u001b[38;5;66;03m# Converte o resultado para um dicionário\u001b[39;00m\n\u001b[32m     10\u001b[39m     \u001b[38;5;28mprint\u001b[39m(\u001b[33m\"\u001b[39m\u001b[33m✅ Conexão com a API realizada com sucesso!\u001b[39m\u001b[33m\"\u001b[39m)\n\u001b[32m     11\u001b[39m \u001b[38;5;28;01melse\u001b[39;00m:\n",
      "\u001b[36mFile \u001b[39m\u001b[32mc:\\APIsTransparente\\.venv\\Lib\\site-packages\\requests\\models.py:980\u001b[39m, in \u001b[36mResponse.json\u001b[39m\u001b[34m(self, **kwargs)\u001b[39m\n\u001b[32m    976\u001b[39m     \u001b[38;5;28;01mreturn\u001b[39;00m complexjson.loads(\u001b[38;5;28mself\u001b[39m.text, **kwargs)\n\u001b[32m    977\u001b[39m \u001b[38;5;28;01mexcept\u001b[39;00m JSONDecodeError \u001b[38;5;28;01mas\u001b[39;00m e:\n\u001b[32m    978\u001b[39m     \u001b[38;5;66;03m# Catch JSON-related errors and raise as requests.JSONDecodeError\u001b[39;00m\n\u001b[32m    979\u001b[39m     \u001b[38;5;66;03m# This aliases json.JSONDecodeError and simplejson.JSONDecodeError\u001b[39;00m\n\u001b[32m--> \u001b[39m\u001b[32m980\u001b[39m     \u001b[38;5;28;01mraise\u001b[39;00m RequestsJSONDecodeError(e.msg, e.doc, e.pos)\n",
      "\u001b[31mJSONDecodeError\u001b[39m: Expecting value: line 1 column 1 (char 0)"
     ]
    }
   ],
   "source": [
    "\n",
    "# URL da API do Ceará Transparente (exemplo hipotético)\n",
    "URL_API = \"https://api-dados-abertos.cearatransparente.ce.gov.br/transparencia/contratos/contratos?page=20&data_assinatura_inicio=01%2F01%2F2024&data_assinatura_fim=01%2F01%2F2025\"\n",
    "\n",
    "# Fazendo a requisição dos dados\n",
    "response = requests.get(URL_API)\n",
    "\n",
    "# Verificando se a resposta foi bem-sucedida\n",
    "if response.status_code == 200:\n",
    "    dados = response.json()  # Converte o resultado para um dicionário\n",
    "    print(\"✅ Conexão com a API realizada com sucesso!\")\n",
    "else:\n",
    "    print(f\"❌ Erro ao acessar API: {response.status_code}\")\n"
   ]
  },
  {
   "cell_type": "markdown",
   "id": "d40ca84c",
   "metadata": {},
   "source": [
    "## 3️⃣ Transformação dos Dados em DataFrame"
   ]
  },
  {
   "cell_type": "code",
   "execution_count": null,
   "id": "2a37e359",
   "metadata": {},
   "outputs": [],
   "source": [
    "\n",
    "# Converte os dados para um DataFrame do Pandas\n",
    "df = pd.DataFrame(dados)\n",
    "\n",
    "# Exibe as primeiras 5 linhas para conferir o carregamento\n",
    "df.head()\n"
   ]
  },
  {
   "cell_type": "markdown",
   "id": "f4c59077",
   "metadata": {},
   "source": [
    "## 4️⃣ Análise Exploratória de Dados (AED)"
   ]
  },
  {
   "cell_type": "code",
   "execution_count": null,
   "id": "a27dde1a",
   "metadata": {},
   "outputs": [],
   "source": [
    "\n",
    "# Mostra estatísticas descritivas dos valores de contrato\n",
    "df[\"valor_contrato\"].describe()\n"
   ]
  },
  {
   "cell_type": "markdown",
   "id": "92a8905f",
   "metadata": {},
   "source": [
    "## 5️⃣ Visualização dos Dados"
   ]
  },
  {
   "cell_type": "code",
   "execution_count": null,
   "id": "606c316e",
   "metadata": {},
   "outputs": [],
   "source": [
    "\n",
    "# Gera um histograma da distribuição de valores de contrato\n",
    "plt.figure(figsize=(10, 5))\n",
    "plt.hist(df[\"valor_contrato\"], bins=30)\n",
    "plt.title(\"Distribuição dos Valores de Contrato\")\n",
    "plt.xlabel(\"Valor (R$)\")\n",
    "plt.ylabel(\"Frequência\")\n",
    "plt.grid()\n",
    "plt.show()\n"
   ]
  },
  {
   "cell_type": "markdown",
   "id": "54531ea3",
   "metadata": {},
   "source": [
    "## 6️⃣ Exportação dos Dados Tratados"
   ]
  },
  {
   "cell_type": "code",
   "execution_count": null,
   "id": "b9232f56",
   "metadata": {},
   "outputs": [],
   "source": [
    "\n",
    "# Salva os dados tratados em CSV\n",
    "df.to_csv(\"contratos_tratados.csv\", index=False)\n",
    "print(\"📂 Arquivo 'contratos_tratados.csv' salvo com sucesso!\")\n"
   ]
  },
  {
   "cell_type": "markdown",
   "id": "def68745",
   "metadata": {},
   "source": [
    "## 7️⃣ Envio Automático de Relatório por E-mail"
   ]
  },
  {
   "cell_type": "code",
   "execution_count": null,
   "id": "96e330b6",
   "metadata": {},
   "outputs": [],
   "source": [
    "\n",
    "import smtplib\n",
    "from email.mime.multipart import MIMEMultipart\n",
    "from email.mime.text import MIMEText\n",
    "from email.mime.base import MIMEBase\n",
    "from email import encoders\n",
    "import os\n",
    "\n",
    "# --- CONFIGURAÇÕES DO E-MAIL ---\n",
    "EMAIL_REMETENTE = \"seuemail@gmail.com\"\n",
    "SENHA_REMETENTE = \"sua_senha_de_aplicativo\"  # Use senha de app, não a senha normal!\n",
    "EMAIL_DESTINATARIO = \"destinatario@exemplo.com\"\n",
    "\n",
    "# --- CRIAÇÃO DA MENSAGEM ---\n",
    "mensagem = MIMEMultipart()\n",
    "mensagem['From'] = EMAIL_REMETENTE\n",
    "mensagem['To'] = EMAIL_DESTINATARIO\n",
    "mensagem['Subject'] = \"📊 Relatório Diário de Contratos e Convênios\"\n",
    "\n",
    "corpo = \"\"\"\n",
    "<p>Olá,</p>\n",
    "<p>Segue em anexo o relatório diário de contratos e convênios extraídos da plataforma Ceará Transparente.</p>\n",
    "<p>Atenciosamente,<br>Automação Python</p>\n",
    "\"\"\"\n",
    "\n",
    "mensagem.attach(MIMEText(corpo, 'html'))\n",
    "\n",
    "# --- ANEXANDO O CSV GERADO ---\n",
    "arquivo = \"contratos_tratados.csv\"\n",
    "with open(arquivo, \"rb\") as anexo:\n",
    "    parte = MIMEBase('application', 'octet-stream')\n",
    "    parte.set_payload(anexo.read())\n",
    "    encoders.encode_base64(parte)\n",
    "    parte.add_header('Content-Disposition', f'anexo; filename={os.path.basename(arquivo)}')\n",
    "    mensagem.attach(parte)\n",
    "\n",
    "# --- ENVIO DO E-MAIL ---\n",
    "try:\n",
    "    with smtplib.SMTP('smtp.gmail.com', 587) as servidor:\n",
    "        servidor.starttls()\n",
    "        servidor.login(EMAIL_REMETENTE, SENHA_REMETENTE)\n",
    "        servidor.send_message(mensagem)\n",
    "        print(\"✅ E-mail enviado com sucesso!\")\n",
    "except Exception as e:\n",
    "    print(f\"❌ Erro ao enviar e-mail: {e}\")\n"
   ]
  },
  {
   "cell_type": "markdown",
   "id": "0cdac8b6",
   "metadata": {},
   "source": [
    "\n",
    "## ✅ Conclusão\n",
    "\n",
    "- A coleta de dados foi realizada com sucesso via API.\n",
    "- Os dados foram estruturados em um DataFrame, analisados e visualizados.\n",
    "- Um arquivo CSV com os dados tratados foi gerado para uso posterior.\n",
    "- O relatório foi enviado automaticamente por e-mail para os responsáveis.\n",
    "- Para execução diária, configure o agendamento no Windows (Task Scheduler) ou Linux (cron).\n"
   ]
  }
 ],
 "metadata": {
  "kernelspec": {
   "display_name": ".venv",
   "language": "python",
   "name": "python3"
  },
  "language_info": {
   "codemirror_mode": {
    "name": "ipython",
    "version": 3
   },
   "file_extension": ".py",
   "mimetype": "text/x-python",
   "name": "python",
   "nbconvert_exporter": "python",
   "pygments_lexer": "ipython3",
   "version": "3.13.5"
  }
 },
 "nbformat": 4,
 "nbformat_minor": 5
}
