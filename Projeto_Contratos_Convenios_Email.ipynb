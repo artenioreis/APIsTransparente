{
 "cells": [
  {
   "cell_type": "markdown",
   "id": "6065a965",
   "metadata": {},
   "source": [
    "\n",
    "# 📊 Automação e Análise de Dados de Contratos e Convênios\n",
    "\n",
    "Este notebook demonstra como automatizar a **coleta, o tratamento e a análise** de dados de contratos e convênios disponibilizados pela plataforma **Ceará Transparente**.\n",
    "\n",
    "**Objetivos:**\n",
    "- Coletar dados via API.\n",
    "- Estruturar e armazenar os dados.\n",
    "- Analisar e visualizar as informações.\n",
    "- Exportar resultados tratados.\n",
    "- Enviar automaticamente por e-mail todos os dias.\n"
   ]
  },
  {
   "cell_type": "markdown",
   "id": "0ff893fa",
   "metadata": {},
   "source": [
    "## 1️⃣ Importação de Bibliotecas"
   ]
  },
  {
   "cell_type": "code",
   "execution_count": null,
   "id": "f7625c11",
   "metadata": {},
   "outputs": [],
   "source": [
    "\n",
    "import requests        # Para consumir a API\n",
    "import pandas as pd    # Para manipulação e análise de dados\n",
    "import matplotlib.pyplot as plt  # Para criar gráficos\n"
   ]
  },
  {
   "cell_type": "markdown",
   "id": "ac65ca1b",
   "metadata": {},
   "source": [
    "## 2️⃣ Coleta de Dados via API"
   ]
  },
  {
   "cell_type": "code",
   "execution_count": null,
   "id": "58228fba",
   "metadata": {},
   "outputs": [],
   "source": [
    "\n",
    "# URL da API do Ceará Transparente (exemplo hipotético)\n",
    "URL_API = \"https://cearatransparente.ce.gov.br/api/contratos\"\n",
    "\n",
    "# Fazendo a requisição dos dados\n",
    "response = requests.get(URL_API)\n",
    "\n",
    "# Verificando se a resposta foi bem-sucedida\n",
    "if response.status_code == 200:\n",
    "    dados = response.json()  # Converte o resultado para um dicionário\n",
    "    print(\"✅ Conexão com a API realizada com sucesso!\")\n",
    "else:\n",
    "    print(f\"❌ Erro ao acessar API: {response.status_code}\")\n"
   ]
  },
  {
   "cell_type": "markdown",
   "id": "d40ca84c",
   "metadata": {},
   "source": [
    "## 3️⃣ Transformação dos Dados em DataFrame"
   ]
  },
  {
   "cell_type": "code",
   "execution_count": null,
   "id": "2a37e359",
   "metadata": {},
   "outputs": [],
   "source": [
    "\n",
    "# Converte os dados para um DataFrame do Pandas\n",
    "df = pd.DataFrame(dados)\n",
    "\n",
    "# Exibe as primeiras 5 linhas para conferir o carregamento\n",
    "df.head()\n"
   ]
  },
  {
   "cell_type": "markdown",
   "id": "f4c59077",
   "metadata": {},
   "source": [
    "## 4️⃣ Análise Exploratória de Dados (AED)"
   ]
  },
  {
   "cell_type": "code",
   "execution_count": null,
   "id": "a27dde1a",
   "metadata": {},
   "outputs": [],
   "source": [
    "\n",
    "# Mostra estatísticas descritivas dos valores de contrato\n",
    "df[\"valor_contrato\"].describe()\n"
   ]
  },
  {
   "cell_type": "markdown",
   "id": "92a8905f",
   "metadata": {},
   "source": [
    "## 5️⃣ Visualização dos Dados"
   ]
  },
  {
   "cell_type": "code",
   "execution_count": null,
   "id": "606c316e",
   "metadata": {},
   "outputs": [],
   "source": [
    "\n",
    "# Gera um histograma da distribuição de valores de contrato\n",
    "plt.figure(figsize=(10, 5))\n",
    "plt.hist(df[\"valor_contrato\"], bins=30)\n",
    "plt.title(\"Distribuição dos Valores de Contrato\")\n",
    "plt.xlabel(\"Valor (R$)\")\n",
    "plt.ylabel(\"Frequência\")\n",
    "plt.grid()\n",
    "plt.show()\n"
   ]
  },
  {
   "cell_type": "markdown",
   "id": "54531ea3",
   "metadata": {},
   "source": [
    "## 6️⃣ Exportação dos Dados Tratados"
   ]
  },
  {
   "cell_type": "code",
   "execution_count": null,
   "id": "b9232f56",
   "metadata": {},
   "outputs": [],
   "source": [
    "\n",
    "# Salva os dados tratados em CSV\n",
    "df.to_csv(\"contratos_tratados.csv\", index=False)\n",
    "print(\"📂 Arquivo 'contratos_tratados.csv' salvo com sucesso!\")\n"
   ]
  },
  {
   "cell_type": "markdown",
   "id": "def68745",
   "metadata": {},
   "source": [
    "## 7️⃣ Envio Automático de Relatório por E-mail"
   ]
  },
  {
   "cell_type": "code",
   "execution_count": null,
   "id": "96e330b6",
   "metadata": {},
   "outputs": [],
   "source": [
    "\n",
    "import smtplib\n",
    "from email.mime.multipart import MIMEMultipart\n",
    "from email.mime.text import MIMEText\n",
    "from email.mime.base import MIMEBase\n",
    "from email import encoders\n",
    "import os\n",
    "\n",
    "# --- CONFIGURAÇÕES DO E-MAIL ---\n",
    "EMAIL_REMETENTE = \"seuemail@gmail.com\"\n",
    "SENHA_REMETENTE = \"sua_senha_de_aplicativo\"  # Use senha de app, não a senha normal!\n",
    "EMAIL_DESTINATARIO = \"destinatario@exemplo.com\"\n",
    "\n",
    "# --- CRIAÇÃO DA MENSAGEM ---\n",
    "mensagem = MIMEMultipart()\n",
    "mensagem['From'] = EMAIL_REMETENTE\n",
    "mensagem['To'] = EMAIL_DESTINATARIO\n",
    "mensagem['Subject'] = \"📊 Relatório Diário de Contratos e Convênios\"\n",
    "\n",
    "corpo = \"\"\"\n",
    "<p>Olá,</p>\n",
    "<p>Segue em anexo o relatório diário de contratos e convênios extraídos da plataforma Ceará Transparente.</p>\n",
    "<p>Atenciosamente,<br>Automação Python</p>\n",
    "\"\"\"\n",
    "\n",
    "mensagem.attach(MIMEText(corpo, 'html'))\n",
    "\n",
    "# --- ANEXANDO O CSV GERADO ---\n",
    "arquivo = \"contratos_tratados.csv\"\n",
    "with open(arquivo, \"rb\") as anexo:\n",
    "    parte = MIMEBase('application', 'octet-stream')\n",
    "    parte.set_payload(anexo.read())\n",
    "    encoders.encode_base64(parte)\n",
    "    parte.add_header('Content-Disposition', f'anexo; filename={os.path.basename(arquivo)}')\n",
    "    mensagem.attach(parte)\n",
    "\n",
    "# --- ENVIO DO E-MAIL ---\n",
    "try:\n",
    "    with smtplib.SMTP('smtp.gmail.com', 587) as servidor:\n",
    "        servidor.starttls()\n",
    "        servidor.login(EMAIL_REMETENTE, SENHA_REMETENTE)\n",
    "        servidor.send_message(mensagem)\n",
    "        print(\"✅ E-mail enviado com sucesso!\")\n",
    "except Exception as e:\n",
    "    print(f\"❌ Erro ao enviar e-mail: {e}\")\n"
   ]
  },
  {
   "cell_type": "markdown",
   "id": "0cdac8b6",
   "metadata": {},
   "source": [
    "\n",
    "## ✅ Conclusão\n",
    "\n",
    "- A coleta de dados foi realizada com sucesso via API.\n",
    "- Os dados foram estruturados em um DataFrame, analisados e visualizados.\n",
    "- Um arquivo CSV com os dados tratados foi gerado para uso posterior.\n",
    "- O relatório foi enviado automaticamente por e-mail para os responsáveis.\n",
    "- Para execução diária, configure o agendamento no Windows (Task Scheduler) ou Linux (cron).\n"
   ]
  }
 ],
 "metadata": {},
 "nbformat": 4,
 "nbformat_minor": 5
}
